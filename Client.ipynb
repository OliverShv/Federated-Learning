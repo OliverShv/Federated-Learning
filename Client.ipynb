{
 "cells": [
  {
   "cell_type": "code",
   "execution_count": 9,
   "id": "6cdff14d-28dc-469c-b607-c6dde3b1454f",
   "metadata": {},
   "outputs": [
    {
     "data": {
      "text/plain": [
       "<module 'FederatedLearning' from 'C:\\\\Users\\\\USER\\\\Documents\\\\GitHub\\\\Federated-Learning\\\\FederatedLearning\\\\__init__.py'>"
      ]
     },
     "execution_count": 9,
     "metadata": {},
     "output_type": "execute_result"
    }
   ],
   "source": [
    "import FederatedLearning\n",
    "import tensorflow as tf\n",
    "from tensorflow.keras.layers import Conv2D, MaxPooling2D, Flatten, Dense\n",
    "import importlib\n",
    "importlib.reload(FederatedLearning)"
   ]
  },
  {
   "cell_type": "code",
   "execution_count": 10,
   "id": "7f69f79e-1039-4a2d-a93d-0801cae91eaf",
   "metadata": {},
   "outputs": [],
   "source": [
    "ip = \"localhost\" # Global or Local IP\n",
    "port = \"8765\"\n",
    "key = \"bbb\""
   ]
  },
  {
   "cell_type": "code",
   "execution_count": 11,
   "id": "e24ba2bb-2742-49a4-ad98-722c4d617bec",
   "metadata": {},
   "outputs": [],
   "source": [
    "connection = FederatedLearning.Connection(ip, key, port=port)"
   ]
  },
  {
   "cell_type": "code",
   "execution_count": 12,
   "id": "2e24043a-cdfc-4eff-8a8e-7be1e0ab70fc",
   "metadata": {},
   "outputs": [
    {
     "data": {
      "text/plain": [
       "'Not connected'"
      ]
     },
     "execution_count": 12,
     "metadata": {},
     "output_type": "execute_result"
    }
   ],
   "source": [
    "connection.status"
   ]
  },
  {
   "cell_type": "code",
   "execution_count": null,
   "id": "00b668ee-25df-43eb-b578-1b78a0be0709",
   "metadata": {},
   "outputs": [],
   "source": []
  }
 ],
 "metadata": {
  "kernelspec": {
   "display_name": "Python 3",
   "language": "python",
   "name": "python3"
  },
  "language_info": {
   "codemirror_mode": {
    "name": "ipython",
    "version": 3
   },
   "file_extension": ".py",
   "mimetype": "text/x-python",
   "name": "python",
   "nbconvert_exporter": "python",
   "pygments_lexer": "ipython3",
   "version": "3.8.8"
  }
 },
 "nbformat": 4,
 "nbformat_minor": 5
}
