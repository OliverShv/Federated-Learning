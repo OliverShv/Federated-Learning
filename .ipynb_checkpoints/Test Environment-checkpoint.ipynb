{
 "cells": [
  {
   "cell_type": "code",
   "execution_count": 14,
   "id": "6cdff14d-28dc-469c-b607-c6dde3b1454f",
   "metadata": {},
   "outputs": [
    {
     "data": {
      "text/plain": [
       "<module 'FederatedLearning' from 'C:\\\\Users\\\\USER\\\\Documents\\\\GitHub\\\\Federated-Learning\\\\FederatedLearning\\\\__init__.py'>"
      ]
     },
     "execution_count": 14,
     "metadata": {},
     "output_type": "execute_result"
    }
   ],
   "source": [
    "import FederatedLearning\n",
    "import importlib\n",
    "importlib.reload(FederatedLearning)"
   ]
  },
  {
   "cell_type": "code",
   "execution_count": 21,
   "id": "55039d87-5ef6-490a-af05-7de775c1d14f",
   "metadata": {},
   "outputs": [
    {
     "data": {
      "text/plain": [
       "['__class__',\n",
       " '__delattr__',\n",
       " '__dict__',\n",
       " '__dir__',\n",
       " '__doc__',\n",
       " '__eq__',\n",
       " '__format__',\n",
       " '__ge__',\n",
       " '__getattribute__',\n",
       " '__gt__',\n",
       " '__hash__',\n",
       " '__init__',\n",
       " '__init_subclass__',\n",
       " '__le__',\n",
       " '__lt__',\n",
       " '__module__',\n",
       " '__ne__',\n",
       " '__new__',\n",
       " '__reduce__',\n",
       " '__reduce_ex__',\n",
       " '__repr__',\n",
       " '__setattr__',\n",
       " '__sizeof__',\n",
       " '__str__',\n",
       " '__subclasshook__',\n",
       " '__weakref__',\n",
       " 'connect_to_server']"
      ]
     },
     "execution_count": 21,
     "metadata": {},
     "output_type": "execute_result"
    }
   ],
   "source": [
    "dir(FederatedLearning.newConnection)"
   ]
  },
  {
   "cell_type": "code",
   "execution_count": 16,
   "id": "7f69f79e-1039-4a2d-a93d-0801cae91eaf",
   "metadata": {},
   "outputs": [],
   "source": [
    "ip = \"localhost\" # Global or Local IP\n",
    "port = \"8765\"\n",
    "key = \"AaBbCc\""
   ]
  },
  {
   "cell_type": "code",
   "execution_count": 17,
   "id": "3ca2e95d-9f9d-4ad8-8bfc-929b9f306a9d",
   "metadata": {},
   "outputs": [],
   "source": [
    "connection = FederatedLearning.newConnection(ip, key, port=port) # Connection object\n",
    "#connection.status -> websocket connection status:Boolean"
   ]
  },
  {
   "cell_type": "code",
   "execution_count": 18,
   "id": "7c66c17a-7ca1-4140-8886-bb8163eb2525",
   "metadata": {},
   "outputs": [
    {
     "data": {
      "text/plain": [
       "<coroutine object newConnection.connect_to_server at 0x0000021A9B1AA9C0>"
      ]
     },
     "execution_count": 18,
     "metadata": {},
     "output_type": "execute_result"
    }
   ],
   "source": [
    "connection.connect_to_server()"
   ]
  },
  {
   "cell_type": "code",
   "execution_count": 19,
   "id": "d40d8251-ed44-478f-9041-777a84482d41",
   "metadata": {},
   "outputs": [],
   "source": [
    "#While connection.status:\n",
    "    #model = connection.model -> Check if server sends new model\n",
    "    #gradients = model.fit(x, y) -> gradients:Dict{model:model_id, gradients:gradients}\n",
    "    #connection.sendGradients(gradients) -> WebSocket send request"
   ]
  },
  {
   "cell_type": "code",
   "execution_count": 20,
   "id": "2e24043a-cdfc-4eff-8a8e-7be1e0ab70fc",
   "metadata": {},
   "outputs": [
    {
     "ename": "AttributeError",
     "evalue": "'newConnection' object has no attribute 'status'",
     "output_type": "error",
     "traceback": [
      "\u001b[1;31m---------------------------------------------------------------------------\u001b[0m",
      "\u001b[1;31mAttributeError\u001b[0m                            Traceback (most recent call last)",
      "\u001b[1;32m<ipython-input-20-f27e41151b12>\u001b[0m in \u001b[0;36m<module>\u001b[1;34m\u001b[0m\n\u001b[1;32m----> 1\u001b[1;33m \u001b[0mconnection\u001b[0m\u001b[1;33m.\u001b[0m\u001b[0mstatus\u001b[0m\u001b[1;33m\u001b[0m\u001b[1;33m\u001b[0m\u001b[0m\n\u001b[0m",
      "\u001b[1;31mAttributeError\u001b[0m: 'newConnection' object has no attribute 'status'"
     ]
    }
   ],
   "source": [
    "connection.status"
   ]
  },
  {
   "cell_type": "code",
   "execution_count": null,
   "id": "5d024791-b611-4319-939c-8fc6fa51aa93",
   "metadata": {},
   "outputs": [],
   "source": []
  }
 ],
 "metadata": {
  "kernelspec": {
   "display_name": "Python 3",
   "language": "python",
   "name": "python3"
  },
  "language_info": {
   "codemirror_mode": {
    "name": "ipython",
    "version": 3
   },
   "file_extension": ".py",
   "mimetype": "text/x-python",
   "name": "python",
   "nbconvert_exporter": "python",
   "pygments_lexer": "ipython3",
   "version": "3.8.8"
  }
 },
 "nbformat": 4,
 "nbformat_minor": 5
}
