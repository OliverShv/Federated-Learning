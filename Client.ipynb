{
 "cells": [
  {
   "cell_type": "code",
   "execution_count": 1,
   "id": "6cdff14d-28dc-469c-b607-c6dde3b1454f",
   "metadata": {},
   "outputs": [
    {
     "name": "stderr",
     "output_type": "stream",
     "text": [
      "C:\\Users\\USER\\anaconda3\\lib\\site-packages\\scipy\\__init__.py:138: UserWarning: A NumPy version >=1.16.5 and <1.23.0 is required for this version of SciPy (detected version 1.24.3)\n",
      "  warnings.warn(f\"A NumPy version >={np_minversion} and <{np_maxversion} is required for this version of \"\n"
     ]
    }
   ],
   "source": [
    "import FederatedLearning\n",
    "import tensorflow as tf\n",
    "from tensorflow.keras.layers import Conv2D, MaxPooling2D, Flatten, Dense\n",
    "import importlib\n",
    "importlib.reload(FederatedLearning)\n",
    "import asyncio"
   ]
  },
  {
   "cell_type": "code",
   "execution_count": 2,
   "id": "7f69f79e-1039-4a2d-a93d-0801cae91eaf",
   "metadata": {},
   "outputs": [],
   "source": [
    "ip = \"localhost\" # Global or Local IP\n",
    "port = \"8765\"\n",
    "key = \"bbb\""
   ]
  },
  {
   "cell_type": "code",
   "execution_count": 9,
   "id": "e24ba2bb-2742-49a4-ad98-722c4d617bec",
   "metadata": {},
   "outputs": [
    {
     "name": "stdout",
     "output_type": "stream",
     "text": [
      "2\n",
      "3\n",
      "Sending message\n",
      "Message: Connection made\n"
     ]
    }
   ],
   "source": [
    "connection = FederatedLearning.Client(ip, key, port=port)"
   ]
  },
  {
   "cell_type": "code",
   "execution_count": 19,
   "id": "00b668ee-25df-43eb-b578-1b78a0be0709",
   "metadata": {
    "tags": []
   },
   "outputs": [
    {
     "data": {
      "text/plain": [
       "<Task pending name='Task-21' coro=<Client.receive_message() running at C:\\Users\\USER\\Documents\\GitHub\\Federated-Learning\\FederatedLearning\\client.py:45>>"
      ]
     },
     "execution_count": 19,
     "metadata": {},
     "output_type": "execute_result"
    },
    {
     "name": "stdout",
     "output_type": "stream",
     "text": [
      "Test\n",
      "set_weights\n"
     ]
    }
   ],
   "source": [
    "asyncio.create_task(connection.receive_message())"
   ]
  },
  {
   "cell_type": "code",
   "execution_count": 16,
   "id": "2c84fa1f-c0c4-498c-b819-380a414fef4a",
   "metadata": {},
   "outputs": [
    {
     "name": "stdout",
     "output_type": "stream",
     "text": [
      "Model: \"sequential_2\"\n",
      "_________________________________________________________________\n",
      " Layer (type)                Output Shape              Param #   \n",
      "=================================================================\n",
      " dense_4 (Dense)             (None, 1, 10)             30        \n",
      "                                                                 \n",
      " dense_5 (Dense)             (None, 1, 3)              33        \n",
      "                                                                 \n",
      "=================================================================\n",
      "Total params: 63 (252.00 Byte)\n",
      "Trainable params: 63 (252.00 Byte)\n",
      "Non-trainable params: 0 (0.00 Byte)\n",
      "_________________________________________________________________\n"
     ]
    }
   ],
   "source": [
    "model = connection.get_model()\n",
    "model.summary()"
   ]
  },
  {
   "cell_type": "code",
   "execution_count": 17,
   "id": "067014dc-476e-41ea-80c4-f80030740270",
   "metadata": {},
   "outputs": [
    {
     "data": {
      "text/plain": [
       "[array([[-0.37771264,  0.32555586, -0.40472084, -0.1420443 , -0.04335189,\n",
       "         -0.17475635, -0.60183287, -0.5905441 ,  0.03480417,  0.32485455],\n",
       "        [-0.28305233, -0.14429295, -0.5389533 , -0.50852585, -0.51347136,\n",
       "          0.09970427,  0.58541316,  0.21622515,  0.57514316,  0.30779225]],\n",
       "       dtype=float32),\n",
       " array([0., 0., 0., 0., 0., 0., 0., 0., 0., 0.], dtype=float32),\n",
       " array([[-0.3987252 , -0.23799255, -0.37146914],\n",
       "        [-0.4987868 , -0.10968137,  0.34543216],\n",
       "        [ 0.62572336, -0.6648796 , -0.08511484],\n",
       "        [ 0.6563411 , -0.3163089 , -0.27656496],\n",
       "        [ 0.62777925, -0.65295047,  0.40987504],\n",
       "        [-0.5441405 , -0.13821965, -0.18268847],\n",
       "        [-0.13480943, -0.4318182 , -0.07422566],\n",
       "        [ 0.4102205 , -0.40128797,  0.51833487],\n",
       "        [ 0.2989769 ,  0.16769719, -0.45060468],\n",
       "        [-0.3351485 , -0.59135693, -0.5054478 ]], dtype=float32),\n",
       " array([0., 0., 0.], dtype=float32)]"
      ]
     },
     "execution_count": 17,
     "metadata": {},
     "output_type": "execute_result"
    },
    {
     "name": "stdout",
     "output_type": "stream",
     "text": [
      "set_weights\n"
     ]
    }
   ],
   "source": [
    "model.get_weights()"
   ]
  },
  {
   "cell_type": "code",
   "execution_count": 12,
   "id": "47d5888c-ece2-4260-9e84-0823952e7789",
   "metadata": {},
   "outputs": [],
   "source": [
    "import numpy as np\n",
    "from ast import literal_eval"
   ]
  },
  {
   "cell_type": "code",
   "execution_count": 17,
   "id": "8feadee1-c9de-44fc-9e80-52e92f94bc89",
   "metadata": {},
   "outputs": [],
   "source": [
    "def convert_numpy_arrays_to_lists(data):\n",
    "        if isinstance(data, np.ndarray):\n",
    "            return data.tolist()\n",
    "        elif isinstance(data, list):\n",
    "            return [convert_numpy_arrays_to_lists(item) for item in data]\n",
    "        else:\n",
    "            return data  # For other data types, just return as is'\n",
    "        "
   ]
  },
  {
   "cell_type": "code",
   "execution_count": 33,
   "id": "d638a51a-6464-4d56-b167-c532d87ce589",
   "metadata": {},
   "outputs": [],
   "source": [
    "weight_str = convert_numpy_arrays_to_lists(model.get_weights())\n",
    "weight_str = str(weight_str)"
   ]
  },
  {
   "cell_type": "code",
   "execution_count": 35,
   "id": "a6e785af-4540-4aa0-8aa1-4884e5902078",
   "metadata": {},
   "outputs": [
    {
     "name": "stdout",
     "output_type": "stream",
     "text": [
      "Parsed Data: [[[0.49118679761886597, 0.6883921027183533, 0.07727015018463135, -0.2246851921081543, -0.13214421272277832, -0.07256138324737549, 0.19693297147750854, 0.7069842219352722, 0.5267763733863831, -0.41136234998703003], [0.6341050267219543, 0.29055750370025635, 0.17937195301055908, 0.4077391028404236, 0.6691189408302307, 0.7043063044548035, 0.6586353182792664, -0.131860613822937, -0.5932291746139526, 0.0072138309478759766]], [0.0, 0.0, 0.0, 0.0, 0.0, 0.0, 0.0, 0.0, 0.0, 0.0], [[-0.64896559715271, -0.27103322744369507, -0.40202510356903076], [0.033091187477111816, -0.041729092597961426, 0.04798156023025513], [0.5189518928527832, 0.4021279811859131, 0.3221513032913208], [0.6272619962692261, -0.6645746231079102, -0.568984866142273], [-0.09792709350585938, -0.34337061643600464, -0.061401426792144775], [-0.5306340456008911, 0.4867899417877197, -0.6355820298194885], [0.4187157154083252, 0.24121731519699097, -0.24626165628433228], [-0.5431725978851318, 0.2252829670906067, -0.037371039390563965], [-0.16536378860473633, -0.11778247356414795, -0.12576109170913696], [0.3546992540359497, 0.4781498908996582, -0.5398300886154175]], [0.0, 0.0, 0.0]]\n"
     ]
    }
   ],
   "source": [
    "try:\n",
    "    weight_p = literal_eval(weight_str)\n",
    "    print(\"Parsed Data:\", weight_p)\n",
    "except Exception as e:\n",
    "    print(\"Parsing Error:\", e)"
   ]
  },
  {
   "cell_type": "code",
   "execution_count": null,
   "id": "65ac6325-8e87-4596-8f18-9b84957bb8eb",
   "metadata": {},
   "outputs": [],
   "source": []
  }
 ],
 "metadata": {
  "kernelspec": {
   "display_name": "Python 3",
   "language": "python",
   "name": "python3"
  },
  "language_info": {
   "codemirror_mode": {
    "name": "ipython",
    "version": 3
   },
   "file_extension": ".py",
   "mimetype": "text/x-python",
   "name": "python",
   "nbconvert_exporter": "python",
   "pygments_lexer": "ipython3",
   "version": "3.8.8"
  }
 },
 "nbformat": 4,
 "nbformat_minor": 5
}
