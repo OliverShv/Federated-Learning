{
 "cells": [
  {
   "cell_type": "code",
   "execution_count": 16,
   "id": "6cdff14d-28dc-469c-b607-c6dde3b1454f",
   "metadata": {},
   "outputs": [],
   "source": [
    "import FederatedLearning\n",
    "import tensorflow as tf\n",
    "from tensorflow.keras.layers import Conv2D, MaxPooling2D, Flatten, Dense\n",
    "import importlib\n",
    "importlib.reload(FederatedLearning)\n",
    "import asyncio"
   ]
  },
  {
   "cell_type": "code",
   "execution_count": 17,
   "id": "d40d8251-ed44-478f-9041-777a84482d41",
   "metadata": {},
   "outputs": [],
   "source": [
    "#While connection.status:\n",
    "    #model = connection.model -> Check if server sends new model\n",
    "    #gradients = model.fit(x, y) -> gradients:Dict{model:model_id, gradients:gradients}\n",
    "    #connection.sendGradients(gradients) -> WebSocket send request"
   ]
  },
  {
   "cell_type": "code",
   "execution_count": 18,
   "id": "5d024791-b611-4319-939c-8fc6fa51aa93",
   "metadata": {},
   "outputs": [
    {
     "name": "stdout",
     "output_type": "stream",
     "text": [
      "Model: \"sequential_2\"\n",
      "_________________________________________________________________\n",
      " Layer (type)                Output Shape              Param #   \n",
      "=================================================================\n",
      " dense_4 (Dense)             (None, 1, 10)             30        \n",
      "                                                                 \n",
      " dense_5 (Dense)             (None, 1, 3)              33        \n",
      "                                                                 \n",
      "=================================================================\n",
      "Total params: 63 (252.00 Byte)\n",
      "Trainable params: 63 (252.00 Byte)\n",
      "Non-trainable params: 0 (0.00 Byte)\n",
      "_________________________________________________________________\n"
     ]
    }
   ],
   "source": [
    "# Define the CNN model\n",
    "model = tf.keras.models.Sequential()\n",
    "\n",
    "# Convolutional and Max-Pooling Layers\n",
    "model.add(Dense(10, activation='relu', input_shape=(1, 2)))\n",
    "model.add(Dense(3, activation='softmax'))  # Example output layer with 10 classes\n",
    "\n",
    "# Compile the model\n",
    "model.compile(optimizer='adam',\n",
    "              loss='categorical_crossentropy',  # Use appropriate loss function for your problem\n",
    "              metrics=['accuracy'])\n",
    "\n",
    "# Print a summary of the model architecture\n",
    "model.summary()"
   ]
  },
  {
   "cell_type": "code",
   "execution_count": 24,
   "id": "6afb0de9-c359-4d33-8002-afe7411e6429",
   "metadata": {},
   "outputs": [
    {
     "name": "stdout",
     "output_type": "stream",
     "text": [
      "2\n",
      "3\n",
      "Sending message\n",
      "Message: Connection made\n"
     ]
    }
   ],
   "source": [
    "ip = \"localhost\" # Global or Local IP\n",
    "port = \"8765\"\n",
    "\n",
    "key =\"aaa\"\n",
    "connection = FederatedLearning.Client(ip, key, port=port) # Connection object\n",
    "#connection.status -> websocket connection status:Boolean"
   ]
  },
  {
   "cell_type": "code",
   "execution_count": 25,
   "id": "1056f212-b572-4290-a948-8a6b592901cd",
   "metadata": {},
   "outputs": [
    {
     "data": {
      "text/plain": [
       "<Task pending name='Task-26' coro=<Client.set_admin() running at C:\\Users\\USER\\Documents\\GitHub\\Federated-Learning\\FederatedLearning\\client.py:55>>"
      ]
     },
     "execution_count": 25,
     "metadata": {},
     "output_type": "execute_result"
    },
    {
     "name": "stdout",
     "output_type": "stream",
     "text": [
      "2\n",
      "3\n",
      "Sending message\n",
      "Message: Admin key overriden\n"
     ]
    }
   ],
   "source": [
    "asyncio.create_task(connection.set_admin())"
   ]
  },
  {
   "cell_type": "code",
   "execution_count": 27,
   "id": "1000fec1-5d14-44ae-bbaa-a90d2c34440c",
   "metadata": {},
   "outputs": [
    {
     "data": {
      "text/plain": [
       "<Task pending name='Task-28' coro=<Client.send_model() running at C:\\Users\\USER\\Documents\\GitHub\\Federated-Learning\\FederatedLearning\\client.py:62>>"
      ]
     },
     "execution_count": 27,
     "metadata": {},
     "output_type": "execute_result"
    },
    {
     "name": "stdout",
     "output_type": "stream",
     "text": [
      "2\n",
      "3\n",
      "Sending message\n",
      "Message: Model Distributed\n"
     ]
    }
   ],
   "source": [
    "asyncio.create_task(connection.send_model(model.to_json()))"
   ]
  },
  {
   "cell_type": "code",
   "execution_count": 32,
   "id": "5da3bb19-4287-4ce8-a26e-4d70e83946d3",
   "metadata": {
    "tags": []
   },
   "outputs": [
    {
     "data": {
      "text/plain": [
       "<Task pending name='Task-32' coro=<Client.send_weights() running at C:\\Users\\USER\\Documents\\GitHub\\Federated-Learning\\FederatedLearning\\client.py:80>>"
      ]
     },
     "execution_count": 32,
     "metadata": {},
     "output_type": "execute_result"
    },
    {
     "name": "stdout",
     "output_type": "stream",
     "text": [
      "1\n",
      "2\n",
      "2\n",
      "3\n",
      "Sending message\n",
      "Message: Weights Distributed\n"
     ]
    }
   ],
   "source": [
    "asyncio.create_task(connection.send_weights(model.get_weights()))"
   ]
  },
  {
   "cell_type": "code",
   "execution_count": 28,
   "id": "624887d2-7f83-4068-bf99-ba46b33f6485",
   "metadata": {},
   "outputs": [
    {
     "data": {
      "text/plain": [
       "[array([[-0.37771264,  0.32555586, -0.40472084, -0.1420443 , -0.04335189,\n",
       "         -0.17475635, -0.60183287, -0.5905441 ,  0.03480417,  0.32485455],\n",
       "        [-0.28305233, -0.14429295, -0.5389533 , -0.50852585, -0.51347136,\n",
       "          0.09970427,  0.58541316,  0.21622515,  0.57514316,  0.30779225]],\n",
       "       dtype=float32),\n",
       " array([0., 0., 0., 0., 0., 0., 0., 0., 0., 0.], dtype=float32),\n",
       " array([[-0.3987252 , -0.23799255, -0.37146914],\n",
       "        [-0.4987868 , -0.10968137,  0.34543216],\n",
       "        [ 0.62572336, -0.6648796 , -0.08511484],\n",
       "        [ 0.6563411 , -0.3163089 , -0.27656496],\n",
       "        [ 0.62777925, -0.65295047,  0.40987504],\n",
       "        [-0.5441405 , -0.13821965, -0.18268847],\n",
       "        [-0.13480943, -0.4318182 , -0.07422566],\n",
       "        [ 0.4102205 , -0.40128797,  0.51833487],\n",
       "        [ 0.2989769 ,  0.16769719, -0.45060468],\n",
       "        [-0.3351485 , -0.59135693, -0.5054478 ]], dtype=float32),\n",
       " array([0., 0., 0.], dtype=float32)]"
      ]
     },
     "execution_count": 28,
     "metadata": {},
     "output_type": "execute_result"
    }
   ],
   "source": [
    "model.get_weights()"
   ]
  },
  {
   "cell_type": "code",
   "execution_count": null,
   "id": "bbde76b0-0d2b-49dc-8be0-8ea9b0d917bb",
   "metadata": {},
   "outputs": [],
   "source": []
  }
 ],
 "metadata": {
  "kernelspec": {
   "display_name": "Python 3",
   "language": "python",
   "name": "python3"
  },
  "language_info": {
   "codemirror_mode": {
    "name": "ipython",
    "version": 3
   },
   "file_extension": ".py",
   "mimetype": "text/x-python",
   "name": "python",
   "nbconvert_exporter": "python",
   "pygments_lexer": "ipython3",
   "version": "3.8.8"
  }
 },
 "nbformat": 4,
 "nbformat_minor": 5
}
