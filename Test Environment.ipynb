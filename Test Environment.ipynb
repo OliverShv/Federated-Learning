{
 "cells": [
  {
   "cell_type": "code",
   "execution_count": 1,
   "id": "6cdff14d-28dc-469c-b607-c6dde3b1454f",
   "metadata": {},
   "outputs": [
    {
     "name": "stderr",
     "output_type": "stream",
     "text": [
      "C:\\Users\\USER\\anaconda3\\lib\\site-packages\\scipy\\__init__.py:138: UserWarning: A NumPy version >=1.16.5 and <1.23.0 is required for this version of SciPy (detected version 1.24.3)\n",
      "  warnings.warn(f\"A NumPy version >={np_minversion} and <{np_maxversion} is required for this version of \"\n"
     ]
    },
    {
     "data": {
      "text/plain": [
       "<module 'FederatedLearning' from 'C:\\\\Users\\\\USER\\\\Documents\\\\GitHub\\\\Federated-Learning\\\\FederatedLearning\\\\__init__.py'>"
      ]
     },
     "execution_count": 1,
     "metadata": {},
     "output_type": "execute_result"
    }
   ],
   "source": [
    "import FederatedLearning\n",
    "import tensorflow as tf\n",
    "from tensorflow.keras.layers import Conv2D, MaxPooling2D, Flatten, Dense\n",
    "import importlib\n",
    "importlib.reload(FederatedLearning)"
   ]
  },
  {
   "cell_type": "code",
   "execution_count": 2,
   "id": "d40d8251-ed44-478f-9041-777a84482d41",
   "metadata": {},
   "outputs": [],
   "source": [
    "#While connection.status:\n",
    "    #model = connection.model -> Check if server sends new model\n",
    "    #gradients = model.fit(x, y) -> gradients:Dict{model:model_id, gradients:gradients}\n",
    "    #connection.sendGradients(gradients) -> WebSocket send request"
   ]
  },
  {
   "cell_type": "code",
   "execution_count": 3,
   "id": "5d024791-b611-4319-939c-8fc6fa51aa93",
   "metadata": {},
   "outputs": [
    {
     "name": "stdout",
     "output_type": "stream",
     "text": [
      "Model: \"sequential\"\n",
      "_________________________________________________________________\n",
      " Layer (type)                Output Shape              Param #   \n",
      "=================================================================\n",
      " conv2d (Conv2D)             (None, 62, 62, 32)        896       \n",
      "                                                                 \n",
      " max_pooling2d (MaxPooling2  (None, 31, 31, 32)        0         \n",
      " D)                                                              \n",
      "                                                                 \n",
      " conv2d_1 (Conv2D)           (None, 29, 29, 64)        18496     \n",
      "                                                                 \n",
      " max_pooling2d_1 (MaxPoolin  (None, 14, 14, 64)        0         \n",
      " g2D)                                                            \n",
      "                                                                 \n",
      " flatten (Flatten)           (None, 12544)             0         \n",
      "                                                                 \n",
      " dense (Dense)               (None, 64)                802880    \n",
      "                                                                 \n",
      " dense_1 (Dense)             (None, 10)                650       \n",
      "                                                                 \n",
      "=================================================================\n",
      "Total params: 822922 (3.14 MB)\n",
      "Trainable params: 822922 (3.14 MB)\n",
      "Non-trainable params: 0 (0.00 Byte)\n",
      "_________________________________________________________________\n"
     ]
    }
   ],
   "source": [
    "# Define the CNN model\n",
    "model = tf.keras.models.Sequential()\n",
    "\n",
    "# Convolutional and Max-Pooling Layers\n",
    "model.add(Conv2D(32, (3, 3), activation='relu', input_shape=(64, 64, 3)))\n",
    "model.add(MaxPooling2D((2, 2)))\n",
    "\n",
    "model.add(Conv2D(64, (3, 3), activation='relu'))\n",
    "model.add(MaxPooling2D((2, 2)))\n",
    "\n",
    "# Fully Connected Layers\n",
    "model.add(Flatten())\n",
    "model.add(Dense(64, activation='relu'))\n",
    "model.add(Dense(10, activation='softmax'))  # Example output layer with 10 classes\n",
    "\n",
    "# Compile the model\n",
    "model.compile(optimizer='adam',\n",
    "              loss='categorical_crossentropy',  # Use appropriate loss function for your problem\n",
    "              metrics=['accuracy'])\n",
    "\n",
    "# Print a summary of the model architecture\n",
    "model.summary()"
   ]
  },
  {
   "cell_type": "code",
   "execution_count": 7,
   "id": "6afb0de9-c359-4d33-8002-afe7411e6429",
   "metadata": {},
   "outputs": [],
   "source": [
    "ip = \"localhost\" # Global or Local IP\n",
    "port = \"8765\"\n",
    "\n",
    "key =\"aaa\"\n",
    "connection = FederatedLearning.Connection(ip, key, port=port) # Connection object\n",
    "#connection.status -> websocket connection status:Boolean"
   ]
  },
  {
   "cell_type": "code",
   "execution_count": 8,
   "id": "07dd84b0-94b4-4077-a01b-584ec1bbc656",
   "metadata": {},
   "outputs": [],
   "source": [
    "await connection.set_admin()"
   ]
  },
  {
   "cell_type": "code",
   "execution_count": null,
   "id": "53889127-67d9-4009-bb3f-789cf2b7eb03",
   "metadata": {},
   "outputs": [],
   "source": [
    "connection.send_model(model.to_json())"
   ]
  }
 ],
 "metadata": {
  "kernelspec": {
   "display_name": "Python 3",
   "language": "python",
   "name": "python3"
  },
  "language_info": {
   "codemirror_mode": {
    "name": "ipython",
    "version": 3
   },
   "file_extension": ".py",
   "mimetype": "text/x-python",
   "name": "python",
   "nbconvert_exporter": "python",
   "pygments_lexer": "ipython3",
   "version": "3.8.8"
  }
 },
 "nbformat": 4,
 "nbformat_minor": 5
}
